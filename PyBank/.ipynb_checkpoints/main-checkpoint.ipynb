{
 "cells": [
  {
   "cell_type": "code",
   "execution_count": 1,
   "metadata": {},
   "outputs": [
    {
     "name": "stdout",
     "output_type": "stream",
     "text": [
      "Finacial Analysis\n",
      "----------------------------------\n",
      "Total Months: 86\n",
      "Total: 38382578\n",
      "Average Change: $446309.05\n",
      "Greatest Increase in Profits: Feb-2012 ($1170593)\n",
      "Greatest Increase in Profits: Sep-2013 ($-1196225)\n",
      "\n"
     ]
    }
   ],
   "source": [
    "import csv\n",
    "\n",
    "with open('budget_data.csv') as csvfile:\n",
    "    readCSV = csv.reader(csvfile, delimiter=',')\n",
    "    next(readCSV)\n",
    "    month_count=0\n",
    "    total_amount=0\n",
    "    Greatest_increase_month=\"empty\"\n",
    "    Greatest_increase_amount=0\n",
    "    Greatest_decrease_month=\"empty\"\n",
    "    Greatest_decrease_amount=0\n",
    "    for row in readCSV:\n",
    "        month_count+=1\n",
    "        total_amount+=int(row[1])\n",
    "        if int(row[1])>Greatest_increase_amount:\n",
    "            Greatest_increase_amount=int(row[1])\n",
    "            Greatest_increase_month=row[0]\n",
    "        if int(row[1])<Greatest_decrease_amount:\n",
    "            Greatest_decrease_amount=int(row[1])\n",
    "            Greatest_decrease_month=row[0]\n",
    "    average_change=total_amount/month_count\n",
    "print (f\"\\\n",
    "Finacial Analysis\\n\\\n",
    "----------------------------------\\n\\\n",
    "Total Months: {month_count}\\n\\\n",
    "Total: {total_amount}\\n\\\n",
    "Average Change: ${round(average_change,2)}\\n\\\n",
    "Greatest Increase in Profits: {Greatest_increase_month} (${Greatest_increase_amount})\\n\\\n",
    "Greatest Increase in Profits: {Greatest_decrease_month} (${Greatest_decrease_amount})\\n\")\n",
    "\n",
    "\n",
    "with open('bank.txt', 'w+') as f:\n",
    "    f.write(f\"\\\n",
    "Finacial Analysis\\n\\\n",
    "----------------------------------\\n\\\n",
    "Total Months: {month_count}\\n\\\n",
    "Total: {total_amount}\\n\\\n",
    "Average Change: ${round(average_change,2)}\\n\\\n",
    "Greatest Increase in Profits: {Greatest_increase_month} (${Greatest_increase_amount})\\n\\\n",
    "Greatest Increase in Profits: {Greatest_decrease_month} (${Greatest_decrease_amount})\\n\")"
   ]
  },
  {
   "cell_type": "code",
   "execution_count": null,
   "metadata": {},
   "outputs": [],
   "source": []
  }
 ],
 "metadata": {
  "kernelspec": {
   "display_name": "Python 3",
   "language": "python",
   "name": "python3"
  },
  "language_info": {
   "codemirror_mode": {
    "name": "ipython",
    "version": 3
   },
   "file_extension": ".py",
   "mimetype": "text/x-python",
   "name": "python",
   "nbconvert_exporter": "python",
   "pygments_lexer": "ipython3",
   "version": "3.7.1"
  }
 },
 "nbformat": 4,
 "nbformat_minor": 2
}
