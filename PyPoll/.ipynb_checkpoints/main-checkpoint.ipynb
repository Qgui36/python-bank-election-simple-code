{
 "cells": [
  {
   "cell_type": "code",
   "execution_count": 1,
   "metadata": {},
   "outputs": [
    {
     "name": "stdout",
     "output_type": "stream",
     "text": [
      "Total Votes: 3521001\n",
      "---------------------\n",
      "Khan: 63.0% (2218231)\n",
      "Correy: 20.0% (704200)\n",
      "Li: 14.0% (492940)\n",
      "O'Tooley: 3.0% (105630)\n",
      "---------------------\n",
      "Winner: Khan\n"
     ]
    }
   ],
   "source": [
    "import csv\n",
    "\n",
    "with open('election_data.csv') as csvfile:\n",
    "    readCSV = csv.reader(csvfile, delimiter=',')\n",
    "    next(readCSV)\n",
    "    total_vote=0\n",
    "    candidates={}\n",
    "    for row in readCSV:\n",
    "        total_vote+=1\n",
    "        if row[2] not in candidates:\n",
    "            candidates[row[2]]=1\n",
    "        else:\n",
    "            candidates[row[2]]+=1\n",
    "    print (f\"Total Votes: {total_vote}\")\n",
    "    print (\"---------------------\")\n",
    "    winner=\"\"\n",
    "    winner_votes=0\n",
    "    for name, votes in candidates.items():\n",
    "        print (f\"{name}: {round(votes/total_vote*100,3)}% ({votes})\") \n",
    "        if votes>winner_votes:\n",
    "            winner_votes=votes\n",
    "            winner=name\n",
    "    print (\"---------------------\")\n",
    "    print (f\"Winner: {winner}\")\n",
    "    \n",
    "with open('poll.txt', 'w+') as f:\n",
    "    f.write(f\"\\\n",
    "Total Votes: {total_vote}\\n\\\n",
    "---------------------\\n\")\n",
    "    for name, votes in candidates.items():\n",
    "        f.write(f\"{name}: {round(votes/total_vote*100,3)}% ({votes})\\n\")\n",
    "    f.write(f\"---------------------\\n\\\n",
    "Winner: {winner}\")"
   ]
  },
  {
   "cell_type": "code",
   "execution_count": 45,
   "metadata": {},
   "outputs": [],
   "source": []
  },
  {
   "cell_type": "code",
   "execution_count": null,
   "metadata": {},
   "outputs": [],
   "source": []
  }
 ],
 "metadata": {
  "kernelspec": {
   "display_name": "Python 3",
   "language": "python",
   "name": "python3"
  },
  "language_info": {
   "codemirror_mode": {
    "name": "ipython",
    "version": 3
   },
   "file_extension": ".py",
   "mimetype": "text/x-python",
   "name": "python",
   "nbconvert_exporter": "python",
   "pygments_lexer": "ipython3",
   "version": "3.7.1"
  }
 },
 "nbformat": 4,
 "nbformat_minor": 2
}
